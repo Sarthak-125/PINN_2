{
  "nbformat": 4,
  "nbformat_minor": 0,
  "metadata": {
    "colab": {
      "name": "Berger_2_iter1.ipynb",
      "provenance": [],
      "collapsed_sections": [],
      "authorship_tag": "ABX9TyMdMgd9Sy8COJe0aDFlhXXU",
      "include_colab_link": true
    },
    "kernelspec": {
      "name": "python3",
      "display_name": "Python 3"
    }
  },
  "cells": [
    {
      "cell_type": "markdown",
      "metadata": {
        "id": "view-in-github",
        "colab_type": "text"
      },
      "source": [
        "<a href=\"https://colab.research.google.com/github/Sarthak-125/PINN_2/blob/main/Berger_2.ipynb\" target=\"_parent\"><img src=\"https://colab.research.google.com/assets/colab-badge.svg\" alt=\"Open In Colab\"/></a>"
      ]
    },
    {
      "cell_type": "markdown",
      "metadata": {
        "id": "q-oz7cSUcSka"
      },
      "source": [
        "Importing the required libraries"
      ]
    },
    {
      "cell_type": "code",
      "metadata": {
        "id": "QifREInscWuM"
      },
      "source": [
        "import numpy as np\r\n",
        "import tensorflow as tf\r\n",
        "import random"
      ],
      "execution_count": 1,
      "outputs": []
    },
    {
      "cell_type": "markdown",
      "metadata": {
        "id": "G7iPh-e5eUQd"
      },
      "source": [
        "Function for generating random arrays"
      ]
    },
    {
      "cell_type": "code",
      "metadata": {
        "id": "siXcFRzTeTYt"
      },
      "source": [
        "def Rand(start, end, num): \r\n",
        "    res = [] \r\n",
        "  \r\n",
        "    for j in range(num): \r\n",
        "        res.append(random.uniform(start, end)) \r\n",
        "  \r\n",
        "    return res"
      ],
      "execution_count": 2,
      "outputs": []
    },
    {
      "cell_type": "markdown",
      "metadata": {
        "id": "WzbzYcM5ecsT"
      },
      "source": [
        "Generating points of computation"
      ]
    },
    {
      "cell_type": "code",
      "metadata": {
        "id": "c7qBinljeb83"
      },
      "source": [
        "n_c = 5000 #collocation points\r\n",
        "n_b = 1000 #boundary points on each boundary\r\n",
        "n_i = 5000 #intial points\r\n",
        "\r\n",
        "#collocation point generation\r\n",
        "x_c = Rand(0, 1, n_c)\r\n",
        "t_c = Rand(0, 1, n_c)\r\n",
        "x_c = tf.cast(x_c ,dtype='float32')\r\n",
        "t_c = tf.cast(t_c ,dtype='float32')\r\n",
        "\r\n",
        "#boundary point generation\r\n",
        "x_lb = np.zeros((n_b,), dtype='float32')\r\n",
        "t_lb = Rand(0, 1, n_b)\r\n",
        "x_rb = np.ones((n_b,), dtype='float32')\r\n",
        "t_rb = Rand(0, 1, n_b)\r\n",
        "x_lb = tf.cast(x_lb ,dtype='float32')\r\n",
        "t_lb = tf.cast(t_lb ,dtype='float32')\r\n",
        "x_rb = tf.cast(x_rb ,dtype='float32')\r\n",
        "t_rb = tf.cast(t_rb ,dtype='float32')\r\n",
        "\r\n",
        "#intialisation point generation\r\n",
        "x_i =  Rand(0, 1, n_i)\r\n",
        "t_i = np.zeros((n_i,), dtype='float32')\r\n",
        "x_i = tf.cast(x_i, dtype=tf.float32)\r\n",
        "t_i = tf.cast(t_i, dtype=tf.float32)"
      ],
      "execution_count": 3,
      "outputs": []
    },
    {
      "cell_type": "markdown",
      "metadata": {
        "id": "LDu8TfQsceKq"
      },
      "source": [
        "BC and Initial Condition\r\n",
        "*   u(x=0,t) = u_o\r\n",
        "*   u(x=1, t) = u_1\r\n",
        "*   u(x, t=0) = g(x)"
      ]
    },
    {
      "cell_type": "code",
      "metadata": {
        "colab": {
          "base_uri": "https://localhost:8080/"
        },
        "id": "iEXYWSq1crQD",
        "outputId": "267df59f-66f9-459d-dd28-2e2973738df6"
      },
      "source": [
        "u_0 = float(input(\"Boundary value at x=0\"))\r\n",
        "u_1 = float(input(\"Boundary value at x=1\"))\r\n",
        "#inputing the initial function at t=0 let it be\r\n",
        "g = eval(input(\"Input function at t=0 :\"))"
      ],
      "execution_count": 4,
      "outputs": [
        {
          "output_type": "stream",
          "text": [
            "Boundary value at x=00\n",
            "Boundary value at x=11\n",
            "Input function at t=0 :np.sin\n"
          ],
          "name": "stdout"
        }
      ]
    },
    {
      "cell_type": "markdown",
      "metadata": {
        "id": "WGW1GCrc-ShH"
      },
      "source": [
        "Entering the value of nu"
      ]
    },
    {
      "cell_type": "code",
      "metadata": {
        "colab": {
          "base_uri": "https://localhost:8080/"
        },
        "id": "la8Woz_T-V7G",
        "outputId": "5fb56a5c-fda1-448f-f1ff-8028da35c72a"
      },
      "source": [
        "nu = float(input(\"Enter the value of nu   :\"))"
      ],
      "execution_count": 5,
      "outputs": [
        {
          "output_type": "stream",
          "text": [
            "Enter the value of nu   :0.003183\n"
          ],
          "name": "stdout"
        }
      ]
    },
    {
      "cell_type": "code",
      "metadata": {
        "id": "3LDFgCfM4Pyw"
      },
      "source": [
        "#creating output for boundary point compatible for training\r\n",
        "u_lb = u_0*np.ones((n_b,), dtype='float32')\r\n",
        "u_lb = tf.cast(u_lb, dtype=tf.float32)\r\n",
        "u_rb = u_1*np.ones((n_b,), dtype='float32')\r\n",
        "u_rb = tf.cast(u_rb, dtype=tf.float32)\r\n",
        "\r\n",
        "#creating initialising points outputs\r\n",
        "u_i = g(x_i)\r\n",
        "u_i = tf.cast(u_i, dtype='float32')"
      ],
      "execution_count": 6,
      "outputs": []
    },
    {
      "cell_type": "markdown",
      "metadata": {
        "id": "AmO2BZAf7vzb"
      },
      "source": [
        "Creating input for the loss function"
      ]
    },
    {
      "cell_type": "code",
      "metadata": {
        "id": "eIgovAZL7vUy"
      },
      "source": [
        "x_loss = tf.concat((x_c, x_lb, x_rb, x_i), axis=0)\r\n",
        "t_loss = tf.concat((t_c, t_lb, t_rb, t_i), axis=0)"
      ],
      "execution_count": 7,
      "outputs": []
    },
    {
      "cell_type": "markdown",
      "metadata": {
        "id": "oQUjd_s48caq"
      },
      "source": [
        "Creating input for the training"
      ]
    },
    {
      "cell_type": "code",
      "metadata": {
        "id": "Kfilw6Qm9bBL"
      },
      "source": [
        "x_train = tf.concat((x_lb, x_rb, x_i), axis=0)\r\n",
        "t_train = tf.concat((t_lb, t_rb, t_i), axis=0)\r\n",
        "u_train = tf.concat((u_lb, u_rb, u_i), axis=0)"
      ],
      "execution_count": 8,
      "outputs": []
    },
    {
      "cell_type": "markdown",
      "metadata": {
        "id": "VJ0yIkt69xqP"
      },
      "source": [
        "Creating the architecture"
      ]
    },
    {
      "cell_type": "code",
      "metadata": {
        "id": "OYRRtg_y90ZI"
      },
      "source": [
        "x_in = tf.keras.layers.Input(shape=(1), name=\"Position\")\r\n",
        "t_in = tf.keras.layers.Input(shape=(1), name=\"Time\")\r\n",
        "IN = tf.keras.layers.Concatenate(axis=-1, name=\"Input\")([x_in, t_in])\r\n",
        "dense1=(tf.keras.layers.Dense(50,activation='sigmoid'))(IN)\r\n",
        "dense2=(tf.keras.layers.Dense(50,activation='sigmoid'))(dense1)\r\n",
        "dense3=(tf.keras.layers.Dense(50,activation='sigmoid'))(dense2)\r\n",
        "dense4=(tf.keras.layers.Dense(50,activation='sigmoid'))(dense3)\r\n",
        "dense5=(tf.keras.layers.Dense(50,activation='sigmoid'))(dense4)\r\n",
        "output=(tf.keras.layers.Dense(1,activation='sigmoid'))(dense5)\r\n",
        "pinn2 = tf.keras.Model(inputs=[x_in,t_in], outputs=output, name=\"pinn2\")"
      ],
      "execution_count": 10,
      "outputs": []
    },
    {
      "cell_type": "markdown",
      "metadata": {
        "id": "l8b-j-jJ-JJO"
      },
      "source": [
        "Creating the loss function for the model"
      ]
    },
    {
      "cell_type": "code",
      "metadata": {
        "id": "j2F9kF8w-NAu"
      },
      "source": [
        "def custom_loss_2(arch, x, t):\r\n",
        "  def loss(u_train, u_pred):\r\n",
        "    with tf.GradientTape(persistent=True) as t1:\r\n",
        "      t1.watch(x)\r\n",
        "      t1.watch(t)\r\n",
        "      with tf.GradientTape() as t2:\r\n",
        "        t2.watch(x)\r\n",
        "        u = arch([x, t])\r\n",
        "        u_x = t2.gradient(u, x)\r\n",
        "      u_t = t1.gradient(u, t)\r\n",
        "      u_xx = t1.gradient(u_x, x)\r\n",
        "    u_pred = tf.cast(u_pred, dtype='float32')\r\n",
        "    u_train = tf.cast(u_train, dtype='float32')      \r\n",
        "    f = u_t + u*u_x - (nu)*u_xx\r\n",
        "    loss_res = tf.reduce_mean(tf.square(f))\r\n",
        "    loss_mse = tf.reduce_mean(tf.square(u_pred-u_train))\r\n",
        "    return loss_res + loss_mse\r\n",
        "  return loss"
      ],
      "execution_count": 11,
      "outputs": []
    },
    {
      "cell_type": "markdown",
      "metadata": {
        "id": "2fLEhDTl-uoM"
      },
      "source": [
        "Compiling and fitting the model"
      ]
    },
    {
      "cell_type": "code",
      "metadata": {
        "colab": {
          "base_uri": "https://localhost:8080/"
        },
        "id": "l3Y3JnGP-x78",
        "outputId": "c6ce3040-c57d-4405-93a8-625fcb6f3204"
      },
      "source": [
        "loss_fn = custom_loss_2(pinn2, x_loss, t_loss)\r\n",
        "pinn2.compile(optimizer='adam', loss=loss_fn, metrics=['mse', 'mae'])\r\n",
        "pinn2.fit([x_train, t_train], u_train, batch_size=32, epochs=10)"
      ],
      "execution_count": 12,
      "outputs": [
        {
          "output_type": "stream",
          "text": [
            "Epoch 1/10\n",
            "WARNING:tensorflow:Calling GradientTape.gradient on a persistent tape inside its context is significantly less efficient than calling it outside the context (it causes the gradient ops to be recorded on the tape, leading to increased CPU and memory usage). Only call GradientTape.gradient inside the context if you actually want to trace the gradient in order to compute higher order derivatives.\n",
            "219/219 [==============================] - 442s 2s/step - loss: 0.1207 - mse: 0.1207 - mae: 0.3015\n",
            "Epoch 2/10\n",
            "219/219 [==============================] - 426s 2s/step - loss: 0.1075 - mse: 0.1062 - mae: 0.2789\n",
            "Epoch 3/10\n",
            "219/219 [==============================] - 424s 2s/step - loss: 0.0354 - mse: 0.0233 - mae: 0.1096\n",
            "Epoch 4/10\n",
            "219/219 [==============================] - 424s 2s/step - loss: 0.0359 - mse: 0.0236 - mae: 0.1110\n",
            "Epoch 5/10\n",
            "219/219 [==============================] - 425s 2s/step - loss: 0.0348 - mse: 0.0226 - mae: 0.1077\n",
            "Epoch 6/10\n",
            "219/219 [==============================] - 425s 2s/step - loss: 0.0354 - mse: 0.0229 - mae: 0.1089\n",
            "Epoch 7/10\n",
            "219/219 [==============================] - 431s 2s/step - loss: 0.0344 - mse: 0.0223 - mae: 0.1079\n",
            "Epoch 8/10\n",
            "219/219 [==============================] - 440s 2s/step - loss: 0.0355 - mse: 0.0230 - mae: 0.1097\n",
            "Epoch 9/10\n",
            "219/219 [==============================] - 433s 2s/step - loss: 0.0346 - mse: 0.0224 - mae: 0.1077\n",
            "Epoch 10/10\n",
            "219/219 [==============================] - 428s 2s/step - loss: 0.0352 - mse: 0.0228 - mae: 0.1089\n"
          ],
          "name": "stdout"
        },
        {
          "output_type": "execute_result",
          "data": {
            "text/plain": [
              "<tensorflow.python.keras.callbacks.History at 0x7fcac7d6fd68>"
            ]
          },
          "metadata": {
            "tags": []
          },
          "execution_count": 12
        }
      ]
    },
    {
      "cell_type": "code",
      "metadata": {
        "colab": {
          "base_uri": "https://localhost:8080/"
        },
        "id": "uXt7eDrKI_rq",
        "outputId": "133d04c6-2377-484b-f010-683c383aabd7"
      },
      "source": [
        "tf.shape(x_loss)"
      ],
      "execution_count": 13,
      "outputs": [
        {
          "output_type": "execute_result",
          "data": {
            "text/plain": [
              "<tf.Tensor: shape=(1,), dtype=int32, numpy=array([12000], dtype=int32)>"
            ]
          },
          "metadata": {
            "tags": []
          },
          "execution_count": 13
        }
      ]
    },
    {
      "cell_type": "code",
      "metadata": {
        "id": "82AQCv3DIren"
      },
      "source": [
        "x_test = x_loss[random.randint(0,n_c+2*n_b+n_i)]\r\n",
        "t_test = t_loss[random.randint(0,n_c+2*n_b+n_i)]"
      ],
      "execution_count": 14,
      "outputs": []
    },
    {
      "cell_type": "code",
      "metadata": {
        "colab": {
          "base_uri": "https://localhost:8080/",
          "height": 320
        },
        "id": "gudGp8ohKSQy",
        "outputId": "b43ce870-5f6e-4898-fa47-4c3d6c123859"
      },
      "source": [
        "u = pinn2([x_test, t_test])\r\n",
        "tf.print(u)"
      ],
      "execution_count": 15,
      "outputs": [
        {
          "output_type": "error",
          "ename": "ValueError",
          "evalue": "ignored",
          "traceback": [
            "\u001b[0;31m---------------------------------------------------------------------------\u001b[0m",
            "\u001b[0;31mValueError\u001b[0m                                Traceback (most recent call last)",
            "\u001b[0;32m<ipython-input-15-e130445028f2>\u001b[0m in \u001b[0;36m<module>\u001b[0;34m()\u001b[0m\n\u001b[0;32m----> 1\u001b[0;31m \u001b[0mu\u001b[0m \u001b[0;34m=\u001b[0m \u001b[0mpinn2\u001b[0m\u001b[0;34m(\u001b[0m\u001b[0;34m[\u001b[0m\u001b[0mx_test\u001b[0m\u001b[0;34m,\u001b[0m \u001b[0mt_test\u001b[0m\u001b[0;34m]\u001b[0m\u001b[0;34m)\u001b[0m\u001b[0;34m\u001b[0m\u001b[0;34m\u001b[0m\u001b[0m\n\u001b[0m\u001b[1;32m      2\u001b[0m \u001b[0mtf\u001b[0m\u001b[0;34m.\u001b[0m\u001b[0mprint\u001b[0m\u001b[0;34m(\u001b[0m\u001b[0mu\u001b[0m\u001b[0;34m)\u001b[0m\u001b[0;34m\u001b[0m\u001b[0;34m\u001b[0m\u001b[0m\n",
            "\u001b[0;32m/usr/local/lib/python3.6/dist-packages/tensorflow/python/keras/engine/base_layer.py\u001b[0m in \u001b[0;36m__call__\u001b[0;34m(self, *args, **kwargs)\u001b[0m\n\u001b[1;32m   1010\u001b[0m         with autocast_variable.enable_auto_cast_variables(\n\u001b[1;32m   1011\u001b[0m             self._compute_dtype_object):\n\u001b[0;32m-> 1012\u001b[0;31m           \u001b[0moutputs\u001b[0m \u001b[0;34m=\u001b[0m \u001b[0mcall_fn\u001b[0m\u001b[0;34m(\u001b[0m\u001b[0minputs\u001b[0m\u001b[0;34m,\u001b[0m \u001b[0;34m*\u001b[0m\u001b[0margs\u001b[0m\u001b[0;34m,\u001b[0m \u001b[0;34m**\u001b[0m\u001b[0mkwargs\u001b[0m\u001b[0;34m)\u001b[0m\u001b[0;34m\u001b[0m\u001b[0;34m\u001b[0m\u001b[0m\n\u001b[0m\u001b[1;32m   1013\u001b[0m \u001b[0;34m\u001b[0m\u001b[0m\n\u001b[1;32m   1014\u001b[0m         \u001b[0;32mif\u001b[0m \u001b[0mself\u001b[0m\u001b[0;34m.\u001b[0m\u001b[0m_activity_regularizer\u001b[0m\u001b[0;34m:\u001b[0m\u001b[0;34m\u001b[0m\u001b[0;34m\u001b[0m\u001b[0m\n",
            "\u001b[0;32m/usr/local/lib/python3.6/dist-packages/tensorflow/python/keras/engine/functional.py\u001b[0m in \u001b[0;36mcall\u001b[0;34m(self, inputs, training, mask)\u001b[0m\n\u001b[1;32m    423\u001b[0m     \"\"\"\n\u001b[1;32m    424\u001b[0m     return self._run_internal_graph(\n\u001b[0;32m--> 425\u001b[0;31m         inputs, training=training, mask=mask)\n\u001b[0m\u001b[1;32m    426\u001b[0m \u001b[0;34m\u001b[0m\u001b[0m\n\u001b[1;32m    427\u001b[0m   \u001b[0;32mdef\u001b[0m \u001b[0mcompute_output_shape\u001b[0m\u001b[0;34m(\u001b[0m\u001b[0mself\u001b[0m\u001b[0;34m,\u001b[0m \u001b[0minput_shape\u001b[0m\u001b[0;34m)\u001b[0m\u001b[0;34m:\u001b[0m\u001b[0;34m\u001b[0m\u001b[0;34m\u001b[0m\u001b[0m\n",
            "\u001b[0;32m/usr/local/lib/python3.6/dist-packages/tensorflow/python/keras/engine/functional.py\u001b[0m in \u001b[0;36m_run_internal_graph\u001b[0;34m(self, inputs, training, mask)\u001b[0m\n\u001b[1;32m    558\u001b[0m \u001b[0;34m\u001b[0m\u001b[0m\n\u001b[1;32m    559\u001b[0m         \u001b[0margs\u001b[0m\u001b[0;34m,\u001b[0m \u001b[0mkwargs\u001b[0m \u001b[0;34m=\u001b[0m \u001b[0mnode\u001b[0m\u001b[0;34m.\u001b[0m\u001b[0mmap_arguments\u001b[0m\u001b[0;34m(\u001b[0m\u001b[0mtensor_dict\u001b[0m\u001b[0;34m)\u001b[0m\u001b[0;34m\u001b[0m\u001b[0;34m\u001b[0m\u001b[0m\n\u001b[0;32m--> 560\u001b[0;31m         \u001b[0moutputs\u001b[0m \u001b[0;34m=\u001b[0m \u001b[0mnode\u001b[0m\u001b[0;34m.\u001b[0m\u001b[0mlayer\u001b[0m\u001b[0;34m(\u001b[0m\u001b[0;34m*\u001b[0m\u001b[0margs\u001b[0m\u001b[0;34m,\u001b[0m \u001b[0;34m**\u001b[0m\u001b[0mkwargs\u001b[0m\u001b[0;34m)\u001b[0m\u001b[0;34m\u001b[0m\u001b[0;34m\u001b[0m\u001b[0m\n\u001b[0m\u001b[1;32m    561\u001b[0m \u001b[0;34m\u001b[0m\u001b[0m\n\u001b[1;32m    562\u001b[0m         \u001b[0;31m# Update tensor_dict.\u001b[0m\u001b[0;34m\u001b[0m\u001b[0;34m\u001b[0m\u001b[0;34m\u001b[0m\u001b[0m\n",
            "\u001b[0;32m/usr/local/lib/python3.6/dist-packages/tensorflow/python/keras/engine/base_layer.py\u001b[0m in \u001b[0;36m__call__\u001b[0;34m(self, *args, **kwargs)\u001b[0m\n\u001b[1;32m    996\u001b[0m         \u001b[0minputs\u001b[0m \u001b[0;34m=\u001b[0m \u001b[0mself\u001b[0m\u001b[0;34m.\u001b[0m\u001b[0m_maybe_cast_inputs\u001b[0m\u001b[0;34m(\u001b[0m\u001b[0minputs\u001b[0m\u001b[0;34m,\u001b[0m \u001b[0minput_list\u001b[0m\u001b[0;34m)\u001b[0m\u001b[0;34m\u001b[0m\u001b[0;34m\u001b[0m\u001b[0m\n\u001b[1;32m    997\u001b[0m \u001b[0;34m\u001b[0m\u001b[0m\n\u001b[0;32m--> 998\u001b[0;31m       \u001b[0minput_spec\u001b[0m\u001b[0;34m.\u001b[0m\u001b[0massert_input_compatibility\u001b[0m\u001b[0;34m(\u001b[0m\u001b[0mself\u001b[0m\u001b[0;34m.\u001b[0m\u001b[0minput_spec\u001b[0m\u001b[0;34m,\u001b[0m \u001b[0minputs\u001b[0m\u001b[0;34m,\u001b[0m \u001b[0mself\u001b[0m\u001b[0;34m.\u001b[0m\u001b[0mname\u001b[0m\u001b[0;34m)\u001b[0m\u001b[0;34m\u001b[0m\u001b[0;34m\u001b[0m\u001b[0m\n\u001b[0m\u001b[1;32m    999\u001b[0m       \u001b[0;32mif\u001b[0m \u001b[0meager\u001b[0m\u001b[0;34m:\u001b[0m\u001b[0;34m\u001b[0m\u001b[0;34m\u001b[0m\u001b[0m\n\u001b[1;32m   1000\u001b[0m         \u001b[0mcall_fn\u001b[0m \u001b[0;34m=\u001b[0m \u001b[0mself\u001b[0m\u001b[0;34m.\u001b[0m\u001b[0mcall\u001b[0m\u001b[0;34m\u001b[0m\u001b[0;34m\u001b[0m\u001b[0m\n",
            "\u001b[0;32m/usr/local/lib/python3.6/dist-packages/tensorflow/python/keras/engine/input_spec.py\u001b[0m in \u001b[0;36massert_input_compatibility\u001b[0;34m(input_spec, inputs, layer_name)\u001b[0m\n\u001b[1;32m    237\u001b[0m                          \u001b[0;34m', found ndim='\u001b[0m \u001b[0;34m+\u001b[0m \u001b[0mstr\u001b[0m\u001b[0;34m(\u001b[0m\u001b[0mndim\u001b[0m\u001b[0;34m)\u001b[0m \u001b[0;34m+\u001b[0m\u001b[0;34m\u001b[0m\u001b[0;34m\u001b[0m\u001b[0m\n\u001b[1;32m    238\u001b[0m                          \u001b[0;34m'. Full shape received: '\u001b[0m \u001b[0;34m+\u001b[0m\u001b[0;34m\u001b[0m\u001b[0;34m\u001b[0m\u001b[0m\n\u001b[0;32m--> 239\u001b[0;31m                          str(tuple(shape)))\n\u001b[0m\u001b[1;32m    240\u001b[0m     \u001b[0;31m# Check dtype.\u001b[0m\u001b[0;34m\u001b[0m\u001b[0;34m\u001b[0m\u001b[0;34m\u001b[0m\u001b[0m\n\u001b[1;32m    241\u001b[0m     \u001b[0;32mif\u001b[0m \u001b[0mspec\u001b[0m\u001b[0;34m.\u001b[0m\u001b[0mdtype\u001b[0m \u001b[0;32mis\u001b[0m \u001b[0;32mnot\u001b[0m \u001b[0;32mNone\u001b[0m\u001b[0;34m:\u001b[0m\u001b[0;34m\u001b[0m\u001b[0;34m\u001b[0m\u001b[0m\n",
            "\u001b[0;31mValueError\u001b[0m: Input 0 of layer dense is incompatible with the layer: : expected min_ndim=2, found ndim=1. Full shape received: (2,)"
          ]
        }
      ]
    }
  ]
}