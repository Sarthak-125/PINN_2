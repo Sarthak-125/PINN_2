{
  "nbformat": 4,
  "nbformat_minor": 0,
  "metadata": {
    "colab": {
      "name": "Untitled1.ipynb",
      "provenance": [],
      "collapsed_sections": [],
      "authorship_tag": "ABX9TyOcWb6R6dmEExCtTzP2bD1o",
      "include_colab_link": true
    },
    "kernelspec": {
      "name": "python3",
      "display_name": "Python 3"
    }
  },
  "cells": [
    {
      "cell_type": "markdown",
      "metadata": {
        "id": "view-in-github",
        "colab_type": "text"
      },
      "source": [
        "<a href=\"https://colab.research.google.com/github/Sarthak-125/PINN_2/blob/main/Burger's_Equation_1.ipynb\" target=\"_parent\"><img src=\"https://colab.research.google.com/assets/colab-badge.svg\" alt=\"Open In Colab\"/></a>"
      ]
    },
    {
      "cell_type": "markdown",
      "metadata": {
        "id": "SniHPHdVRUOk"
      },
      "source": [
        "Importing libraries"
      ]
    },
    {
      "cell_type": "code",
      "metadata": {
        "id": "MfNs6TswRVsF"
      },
      "source": [
        "import numpy as np\r\n",
        "import tensorflow as  tf\r\n",
        "import random"
      ],
      "execution_count": 2,
      "outputs": []
    },
    {
      "cell_type": "markdown",
      "metadata": {
        "id": "0QluD7wjRXfo"
      },
      "source": [
        "BC u(t,1) = u(t,-1) = 0"
      ]
    },
    {
      "cell_type": "markdown",
      "metadata": {
        "id": "QJ5If0E1RaQu"
      },
      "source": [
        "Collocation point creation\r\n",
        "\r\n"
      ]
    },
    {
      "cell_type": "code",
      "metadata": {
        "id": "kbwjTIdmRdls"
      },
      "source": [
        "n_c = 5000  #collocation points\r\n",
        "\r\n",
        "def Rand(start, end, num): \r\n",
        "    res = [] \r\n",
        "  \r\n",
        "    for j in range(num): \r\n",
        "        res.append(random.uniform(start, end)) \r\n",
        "  \r\n",
        "    return res\r\n",
        "\r\n",
        "x_c = Rand(-1, 1, n_c)\r\n",
        "t_c = Rand(0, 1, n_c)\r\n",
        "x_c = tf.cast(x_c ,dtype='float32')\r\n",
        "t_c = tf.cast(t_c ,dtype='float32')\r\n",
        "input_c = tf.stack((x_c, t_c), axis=1)\r\n",
        "x_bc_u = np.ones((n_c,), dtype='float32')\r\n",
        "x_bc_b = - x_bc_u\r\n",
        "x_bc_u = tf.cast(x_bc_u, dtype='float32')\r\n",
        "x_bc_b = tf.cast(x_bc_b, dtype='float32')\r\n",
        "input_bcu = tf.stack((x_bc_u, t_c), axis = 1)\r\n",
        "input_bcb = tf.stack((x_bc_b, t_c), axis = 1)\r\n",
        "input_bc = tf.concat((input_bcu, input_bcb), axis=0)\r\n",
        "input_f = tf.concat((input_c, input_bc), axis=0)\r\n",
        "x_f = input_f[:,0:1]\r\n",
        "t_f = input_f[:,1:2]\r\n",
        "y_bc = 0\r\n",
        "out_bc = (y_bc* np.ones((2*n_c,1), dtype='float32'))\r\n",
        "out_bc = tf.cast(out_bc, dtype='float32')"
      ],
      "execution_count": 3,
      "outputs": []
    },
    {
      "cell_type": "code",
      "metadata": {
        "colab": {
          "base_uri": "https://localhost:8080/"
        },
        "id": "X4NuHdtAUCha",
        "outputId": "723e9de8-3b25-44fb-dcc0-db8b46ed1dbc"
      },
      "source": [
        "print(x_f)"
      ],
      "execution_count": 15,
      "outputs": [
        {
          "output_type": "stream",
          "text": [
            "tf.Tensor(\n",
            "[[ 0.9332978 ]\n",
            " [ 0.4441381 ]\n",
            " [ 0.77020186]\n",
            " ...\n",
            " [-1.        ]\n",
            " [-1.        ]\n",
            " [-1.        ]], shape=(15000, 1), dtype=float32)\n"
          ],
          "name": "stdout"
        }
      ]
    },
    {
      "cell_type": "markdown",
      "metadata": {
        "id": "myhJpj8_RnFs"
      },
      "source": [
        "Architecture ANN"
      ]
    },
    {
      "cell_type": "code",
      "metadata": {
        "id": "rstyWImvRn3G"
      },
      "source": [
        "x_in = tf.keras.layers.Input(shape=(1), name=\"Position\")\r\n",
        "t_in = tf.keras.layers.Input(shape=(1), name=\"Time\")\r\n",
        "IN = tf.keras.layers.Concatenate(axis=-1, name=\"Input\")([x_in, t_in])\r\n",
        "dense1=(tf.keras.layers.Dense(50,activation='tanh'))(IN)\r\n",
        "dense2=(tf.keras.layers.Dense(50,activation='tanh'))(dense1)\r\n",
        "dense3=(tf.keras.layers.Dense(50,activation='tanh'))(dense2)\r\n",
        "dense4=(tf.keras.layers.Dense(50,activation='tanh'))(dense3)\r\n",
        "dense5=(tf.keras.layers.Dense(50,activation='tanh'))(dense4)\r\n",
        "output=(tf.keras.layers.Dense(1,activation='tanh'))(dense5)\r\n",
        "pinn1 = tf.keras.Model(inputs=[x_in,t_in], outputs=output, name=\"pinn1\")"
      ],
      "execution_count": 5,
      "outputs": []
    },
    {
      "cell_type": "markdown",
      "metadata": {
        "id": "genrdsXUTVTo"
      },
      "source": [
        "Custom Loss function"
      ]
    },
    {
      "cell_type": "code",
      "metadata": {
        "colab": {
          "base_uri": "https://localhost:8080/"
        },
        "id": "LrTp_ONITWFL",
        "outputId": "80cc3230-17c3-4562-9e61-14f34888f145"
      },
      "source": [
        "def custom_loss_1(arch, x, t):\r\n",
        "  def loss(u_train, u_pred):\r\n",
        "    with tf.GradientTape(persistent=True) as t1:\r\n",
        "      t1.watch(x)\r\n",
        "      t1.watch(t)\r\n",
        "      with tf.GradientTape() as t2:\r\n",
        "        t2.watch(x)\r\n",
        "        u = arch([x, t])\r\n",
        "        u_x = t2.gradient(u, x)\r\n",
        "      u_t = t1.gradient(u, t)\r\n",
        "      u_xx = t1.gradient(u_x, x)\r\n",
        "    u_pred = tf.cast(u_pred, dtype='float32')\r\n",
        "    u_train = tf.cast(u_train, dtype='float32')      \r\n",
        "    f = u_t + u*u_x - (0.01/np.pi)*u_xx\r\n",
        "    loss_res = tf.reduce_mean(tf.square(f))\r\n",
        "    loss_2 = tf.reduce_mean(tf.square(u_pred-u_train))\r\n",
        "    return loss_res + loss_2\r\n",
        "  return loss\r\n",
        "\r\n",
        "\r\n",
        "loss_fn = custom_loss_1(pinn1, x_f, t_f)\r\n",
        "pinn1.compile(optimizer='adam', loss=loss_fn, metrics=['mse'])\r\n",
        "pinn1.fit([input_bc[:,0:1], input_bc[:,1:2]], out_bc, batch_size=32, epochs=4)"
      ],
      "execution_count": 6,
      "outputs": [
        {
          "output_type": "stream",
          "text": [
            "Epoch 1/4\n",
            "WARNING:tensorflow:Calling GradientTape.gradient on a persistent tape inside its context is significantly less efficient than calling it outside the context (it causes the gradient ops to be recorded on the tape, leading to increased CPU and memory usage). Only call GradientTape.gradient inside the context if you actually want to trace the gradient in order to compute higher order derivatives.\n",
            "313/313 [==============================] - 74s 233ms/step - loss: 0.0027 - mse: 0.0015\n",
            "Epoch 2/4\n",
            "313/313 [==============================] - 74s 235ms/step - loss: 1.3197e-07 - mse: 3.0589e-09\n",
            "Epoch 3/4\n",
            "313/313 [==============================] - 74s 237ms/step - loss: 4.5503e-08 - mse: 6.5970e-10\n",
            "Epoch 4/4\n",
            "313/313 [==============================] - 74s 237ms/step - loss: 3.5809e-06 - mse: 2.7728e-06\n"
          ],
          "name": "stdout"
        },
        {
          "output_type": "execute_result",
          "data": {
            "text/plain": [
              "<tensorflow.python.keras.callbacks.History at 0x7f9de798a5f8>"
            ]
          },
          "metadata": {
            "tags": []
          },
          "execution_count": 6
        }
      ]
    },
    {
      "cell_type": "code",
      "metadata": {
        "colab": {
          "base_uri": "https://localhost:8080/"
        },
        "id": "t_JJy236UT6W",
        "outputId": "fefcd8ce-d7c0-44cb-8c0f-c0dcbee103ea"
      },
      "source": [
        "x_test = x_f[random.randint(0,3*n_c)]\r\n",
        "t_test = t_f[random.randint(0,3*n_c)]\r\n",
        "u = pinn1([x_test, t_test])\r\n",
        "tf.print(\"u at x=\", x_test, \"and at time t = \", t_test, \"is =\" , u)\r\n"
      ],
      "execution_count": 31,
      "outputs": [
        {
          "output_type": "stream",
          "text": [
            "u at x= [0.967259049] and at time t =  [0.550383151] is = [[-0.00161595282]]\n"
          ],
          "name": "stdout"
        }
      ]
    }
  ]
}